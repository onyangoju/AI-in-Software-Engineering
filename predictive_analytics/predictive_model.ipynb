{
 "cells": [
  {
   "cell_type": "code",
   "execution_count": null,
   "metadata": {},
   "outputs": [],
   "source": [
    "# 📌 Step 1: Import Libraries\n",
    "import pandas as pd\n",
    "import numpy as np\n",
    "from sklearn.model_selection import train_test_split\n",
    "from sklearn.ensemble import RandomForestClassifier\n",
    "from sklearn.metrics import accuracy_score, f1_score, classification_report\n",
    "import matplotlib.pyplot as plt\n",
    "import seaborn as sns\n",
    "\n",
    "# 📌 Step 2: Load Dataset\n",
    "df = pd.read_csv(\"data.csv\")\n",
    "print(\"Dataset loaded successfully.\")\n",
    "df.head()\n",
    "\n",
    "# 📌 Step 3: Preprocess Dataset\n",
    "df = df.drop(columns=[\"id\"], errors='ignore')\n",
    "\n",
    "# Use original labels (M and B)\n",
    "df['priority'] = df['diagnosis']\n",
    "df = df.drop(columns=[\"diagnosis\"])\n",
    "\n",
    "# Check for nulls\n",
    "print(df.isnull().sum())\n",
    "\n",
    "# Encode 'M' and 'B' as numeric for training\n",
    "df['priority_encoded'] = df['priority'].map({'M': 1, 'B': 0})\n",
    "\n",
    "# 📌 Step 4: Train/Test Split\n",
    "X = df.drop(columns=[\"priority\", \"priority_encoded\"])\n",
    "y = df[\"priority_encoded\"]\n",
    "\n",
    "X_train, X_test, y_train, y_test = train_test_split(\n",
    "    X, y, test_size=0.2, random_state=42)\n",
    "\n",
    "# 📌 Step 5: Train Random Forest Model\n",
    "model = RandomForestClassifier(n_estimators=100, random_state=42)\n",
    "model.fit(X_train, y_train)\n",
    "\n",
    "# 📌 Step 6: Evaluate Model\n",
    "y_pred = model.predict(X_test)\n",
    "accuracy = accuracy_score(y_test, y_pred)\n",
    "f1 = f1_score(y_test, y_pred)\n",
    "\n",
    "print(\"Accuracy:\", accuracy)\n",
    "print(\"F1 Score:\", f1)\n",
    "print(\"\\nClassification Report:\\n\", classification_report(y_test, y_pred, target_names=['B', 'M']))\n",
    "\n",
    "# 📌 Step 7: Feature Importance\n",
    "plt.figure(figsize=(10, 6))\n",
    "importances = model.feature_importances_\n",
    "features = X.columns\n",
    "sns.barplot(x=importances, y=features)\n",
    "plt.title(\"Feature Importance\")\n",
    "plt.tight_layout()\n",
    "plt.show()\n"
   ]
  },
  {
   "cell_type": "code",
   "execution_count": null,
   "metadata": {},
   "outputs": [],
   "source": []
  }
 ],
 "metadata": {
  "kernelspec": {
   "display_name": "Python 3",
   "language": "python",
   "name": "python3"
  },
  "language_info": {
   "codemirror_mode": {
    "name": "ipython",
    "version": 3
   },
   "file_extension": ".py",
   "mimetype": "text/x-python",
   "name": "python",
   "nbconvert_exporter": "python",
   "pygments_lexer": "ipython3",
   "version": "3.12.0"
  }
 },
 "nbformat": 4,
 "nbformat_minor": 4
}
